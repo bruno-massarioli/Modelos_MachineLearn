{
 "cells": [
  {
   "cell_type": "markdown",
   "id": "44f5940d-f81a-433c-8c76-7272eeeafa95",
   "metadata": {},
   "source": [
    "# Redução de dimensionalidade"
   ]
  },
  {
   "cell_type": "markdown",
   "id": "7a4e3847-16fb-42a8-ad82-693e95e7e4b8",
   "metadata": {},
   "source": [
    "## Preparacão da base de dados"
   ]
  },
  {
   "cell_type": "code",
   "execution_count": null,
   "id": "584c7d89-40fb-40ba-8ad4-f861888adf01",
   "metadata": {},
   "outputs": [],
   "source": [
    "import pandas as pd\n",
    "\n",
    "base_census = pd.read_csv('census.csv')\n",
    "base_census"
   ]
  },
  {
   "cell_type": "code",
   "execution_count": null,
   "id": "c87b89c7-2d31-4769-a41f-3014fe52e0f2",
   "metadata": {},
   "outputs": [],
   "source": [
    "X_census = base_census.iloc[:, 0:14].values\n",
    "X_census"
   ]
  },
  {
   "cell_type": "code",
   "execution_count": null,
   "id": "1dd639d5-c033-4059-97d2-60789c304191",
   "metadata": {},
   "outputs": [],
   "source": [
    "y_census = base_census.iloc[:, 14].values\n",
    "y_census"
   ]
  },
  {
   "cell_type": "code",
   "execution_count": null,
   "id": "ae0e7497-a69a-4be7-9d41-c451bba1cea3",
   "metadata": {},
   "outputs": [],
   "source": [
    "from sklearn.preprocessing import LabelEncoder\n",
    "label_encoder_workclass = LabelEncoder()\n",
    "label_encoder_education = LabelEncoder()\n",
    "label_encoder_marital = LabelEncoder()\n",
    "label_encoder_occupation = LabelEncoder()\n",
    "label_encoder_relationship = LabelEncoder()\n",
    "label_encoder_race = LabelEncoder()\n",
    "label_encoder_sex = LabelEncoder()\n",
    "label_encoder_country = LabelEncoder()"
   ]
  },
  {
   "cell_type": "code",
   "execution_count": null,
   "id": "75fcd55b-7dbb-4331-9a57-b02839449356",
   "metadata": {},
   "outputs": [],
   "source": [
    "X_census[:,1] = label_encoder_workclass.fit_transform(X_census[:,1])\n",
    "X_census[:,3] = label_encoder_education.fit_transform(X_census[:,3])\n",
    "X_census[:,5] = label_encoder_marital.fit_transform(X_census[:,5])\n",
    "X_census[:,6] = label_encoder_occupation.fit_transform(X_census[:,6])\n",
    "X_census[:,7] = label_encoder_relationship.fit_transform(X_census[:,7])\n",
    "X_census[:,8] = label_encoder_race.fit_transform(X_census[:,8])\n",
    "X_census[:,9] = label_encoder_sex.fit_transform(X_census[:,9])\n",
    "X_census[:,13] = label_encoder_country.fit_transform(X_census[:,13])"
   ]
  },
  {
   "cell_type": "code",
   "execution_count": null,
   "id": "2adcac07-dc98-4473-a4dd-97809f1156b3",
   "metadata": {},
   "outputs": [],
   "source": [
    "X_census[0]"
   ]
  },
  {
   "cell_type": "code",
   "execution_count": null,
   "id": "aa5907df-33e2-4e7c-89a1-41bbb9052e65",
   "metadata": {},
   "outputs": [],
   "source": [
    "from sklearn.preprocessing import StandardScaler\n",
    "scaler_census = StandardScaler()\n",
    "X_census = scaler_census.fit_transform(X_census)"
   ]
  },
  {
   "cell_type": "code",
   "execution_count": null,
   "id": "9ac905f4-d20e-4da6-a54b-4ee6bc3fdeab",
   "metadata": {},
   "outputs": [],
   "source": [
    "X_census # valores padronizados"
   ]
  },
  {
   "cell_type": "code",
   "execution_count": null,
   "id": "b1df16e8-c194-4c1a-ad33-b4ffc537552d",
   "metadata": {},
   "outputs": [],
   "source": [
    "from sklearn.model_selection import train_test_split\n",
    "X_census_treinamento, X_census_teste, y_census_treinamento, y_census_teste = train_test_split(X_census, y_census, test_size=0.15, random_state=0)"
   ]
  },
  {
   "cell_type": "code",
   "execution_count": null,
   "id": "2994933a-88a2-41f6-9826-68769781e826",
   "metadata": {},
   "outputs": [],
   "source": [
    "X_census_treinamento.shape, X_census_teste.shape"
   ]
  },
  {
   "cell_type": "markdown",
   "id": "dd167ed2-d882-4673-9b32-da07a79af997",
   "metadata": {},
   "source": [
    "## PCA (Principal component analysis)\n",
    "\n",
    "- um dos principais algoritmos de aprendizagem de máquina não supervisionada\n",
    "- identifica a correlação entre variáveis, e caso haja uma forte correlação é possivel reduzir a dimensionalidade\n",
    "- das **m** variaveis independentes, PCA extrai p<= m novas variáveis independentes que explica melhor a variação na base de dados, sem considerar a vaiável dependente\n",
    "- o usuario pode escolher o valor de **p**"
   ]
  },
  {
   "cell_type": "code",
   "execution_count": null,
   "id": "1cb59a79-8d18-4d8e-a50e-4e12a788130f",
   "metadata": {},
   "outputs": [],
   "source": [
    "from sklearn.decomposition import PCA"
   ]
  },
  {
   "cell_type": "code",
   "execution_count": null,
   "id": "5a7b5f17-b55f-48dc-b183-2ca630d33eb5",
   "metadata": {},
   "outputs": [],
   "source": [
    "pca = PCA(n_components=8)"
   ]
  },
  {
   "cell_type": "code",
   "execution_count": null,
   "id": "b8e0f55b-ff7e-4066-b488-af532082d994",
   "metadata": {},
   "outputs": [],
   "source": [
    "X_census_treinamento_pca = pca.fit_transform(X_census_treinamento)\n",
    "X_census_testes_pca = pca.transform(X_census_teste)"
   ]
  },
  {
   "cell_type": "code",
   "execution_count": null,
   "id": "749c54fe-c95f-4d1e-862b-da9ee9f3c625",
   "metadata": {},
   "outputs": [],
   "source": [
    "X_census_treinamento_pca.shape, X_census_testes_pca.shape"
   ]
  },
  {
   "cell_type": "code",
   "execution_count": null,
   "id": "bcd418ec-85e6-45ac-a49c-b7a7e7ffc7c5",
   "metadata": {},
   "outputs": [],
   "source": [
    "X_census_treinamento"
   ]
  },
  {
   "cell_type": "code",
   "execution_count": null,
   "id": "95f574ef-f86f-45ef-abeb-0f4bc73a5dc1",
   "metadata": {},
   "outputs": [],
   "source": [
    "pca.explained_variance_ratio_"
   ]
  },
  {
   "cell_type": "code",
   "execution_count": null,
   "id": "58e2296f-a79d-466a-aab6-786994675922",
   "metadata": {},
   "outputs": [],
   "source": [
    "pca.explained_variance_ratio_.sum()\n",
    "\n",
    "# indica que essas 8 componentes    explicam 70% das variaveis"
   ]
  },
  {
   "cell_type": "code",
   "execution_count": null,
   "id": "eecbde5c-f807-49b5-81b2-e7ef094dd4da",
   "metadata": {},
   "outputs": [],
   "source": [
    "from sklearn.ensemble import RandomForestClassifier"
   ]
  },
  {
   "cell_type": "code",
   "execution_count": null,
   "id": "120c7ae9-3c48-4709-99a3-f235f97faef8",
   "metadata": {},
   "outputs": [],
   "source": [
    "random_forest_census_pca = RandomForestClassifier(n_estimators=40, random_state=0, criterion = 'entropy')\n",
    "random_forest_census_pca.fit(X_census_treinamento_pca, y_census_treinamento)"
   ]
  },
  {
   "cell_type": "code",
   "execution_count": null,
   "id": "b1753956-0c62-41d1-ad57-74f2a98a3a17",
   "metadata": {},
   "outputs": [],
   "source": [
    "previsoes = random_forest_census_pca.predict(X_census_testes_pca)\n",
    "previsoes"
   ]
  },
  {
   "cell_type": "code",
   "execution_count": null,
   "id": "5a8dbb7f-6f36-4237-b4d3-8258046d6def",
   "metadata": {},
   "outputs": [],
   "source": [
    "y_census_teste"
   ]
  },
  {
   "cell_type": "code",
   "execution_count": null,
   "id": "cdc630c2-a811-45d7-8ef3-2350c6840118",
   "metadata": {},
   "outputs": [],
   "source": [
    "from sklearn.metrics import accuracy_score\n",
    "accuracy_score(y_census_teste, previsoes)"
   ]
  },
  {
   "cell_type": "markdown",
   "id": "3564f859-d475-4f66-9d1e-84638ee6c6d5",
   "metadata": {},
   "source": [
    "## Kernel PCA\n",
    "\n",
    "- PCA e LDA são utilizados quandos os dados são linermente separáveis\n",
    "\n",
    "- é uma versão do PCA que os dados são mapeados para uma dimensão maior usando o **kernel trick**\n",
    "\n",
    "- os componentes principais sao extraidas com dimensionalidade maior"
   ]
  },
  {
   "cell_type": "code",
   "execution_count": null,
   "id": "7b099797-5e03-45d2-abf3-3da761e01800",
   "metadata": {},
   "outputs": [],
   "source": [
    "from sklearn.decomposition import KernelPCA"
   ]
  },
  {
   "cell_type": "code",
   "execution_count": null,
   "id": "82cd8600-f490-4e29-8d87-1117450b2a9a",
   "metadata": {},
   "outputs": [],
   "source": [
    "kpca = KernelPCA(n_components=8, kernel='rbf')\n",
    "X_census_treinamento_kpca = kpca.fit_transform(X_census_treinamento)\n",
    "X_census_teste_kpca = kpca.transform(X_census_teste)"
   ]
  },
  {
   "cell_type": "code",
   "execution_count": null,
   "id": "ee2fbf53-454d-480f-ad81-a4ea5348d223",
   "metadata": {},
   "outputs": [],
   "source": [
    "X_census_treinamento_kpca.shape, X_census_teste_kpca.shape"
   ]
  },
  {
   "cell_type": "code",
   "execution_count": null,
   "id": "679abd09-5191-415a-ac8e-2acccb9ba3ff",
   "metadata": {},
   "outputs": [],
   "source": [
    "X_census_treinamento_kpca"
   ]
  },
  {
   "cell_type": "code",
   "execution_count": null,
   "id": "cd8c09c9-af3c-47f8-a9de-950da3916239",
   "metadata": {},
   "outputs": [],
   "source": [
    "from sklearn.ensemble import RandomForestClassifier\n",
    "random_forest_census_kpca = RandomForestClassifier(n_estimators = 40, criterion = 'entropy', random_state = 0)\n",
    "random_forest_census_kpca.fit(X_census_treinamento_kpca, y_census_treinamento)"
   ]
  },
  {
   "cell_type": "code",
   "execution_count": null,
   "id": "3cefa1f4-3b49-444e-b2e8-8ff35d7c6404",
   "metadata": {},
   "outputs": [],
   "source": [
    "previsoes = random_forest_census_kpca.predict(X_census_teste_kpca)\n",
    "previsoes"
   ]
  },
  {
   "cell_type": "code",
   "execution_count": null,
   "id": "e385cc02-6b65-4d68-8f13-f8f50d0cf396",
   "metadata": {},
   "outputs": [],
   "source": [
    "y_census_teste"
   ]
  },
  {
   "cell_type": "code",
   "execution_count": null,
   "id": "f0fe7305-bc19-43bd-901a-7db9238b7640",
   "metadata": {},
   "outputs": [],
   "source": [
    "from sklearn.metrics import accuracy_score\n",
    "accuracy_score(y_census_teste, previsoes)"
   ]
  },
  {
   "cell_type": "markdown",
   "id": "a78dde3a-d1d6-4f57-a0a1-0a6f9aec0358",
   "metadata": {},
   "source": [
    "## LDA (Linear discriminant analysis)\n",
    "\n",
    "- Além de encontrar os componentes principais,também encontra os eixos que maximizam a separação entre múltiplas classes \n",
    "- é supervisionada por causa da relação com a classe \n",
    "- das **m** variaveis independentes, LDA extrai p<= m novas variáveis independentes que mais separa as classes da variável independente"
   ]
  },
  {
   "cell_type": "code",
   "execution_count": null,
   "id": "ee03db47-6a6d-4b9a-8ef8-d320e808e4a3",
   "metadata": {},
   "outputs": [],
   "source": [
    "from sklearn.discriminant_analysis import LinearDiscriminantAnalysis\n",
    "lda = LinearDiscriminantAnalysis(n_components = 1)"
   ]
  },
  {
   "cell_type": "code",
   "execution_count": null,
   "id": "929989e3-31ec-46f6-ab3c-87527d75d609",
   "metadata": {},
   "outputs": [],
   "source": [
    "X_census_treinamento_lda = lda.fit_transform(X_census_treinamento, y_census_treinamento)\n",
    "X_census_teste_lda = lda.transform(X_census_teste)"
   ]
  },
  {
   "cell_type": "code",
   "execution_count": null,
   "id": "ced1529d-7245-45c8-bef5-76e855d5793d",
   "metadata": {},
   "outputs": [],
   "source": [
    "X_census_treinamento_lda.shape, X_census_teste_lda.shape"
   ]
  },
  {
   "cell_type": "code",
   "execution_count": null,
   "id": "24f3ada7-7772-4e62-afab-71e68fcb68b3",
   "metadata": {},
   "outputs": [],
   "source": [
    "X_census_treinamento_lda"
   ]
  },
  {
   "cell_type": "code",
   "execution_count": null,
   "id": "12b9d29f-1c2f-49fa-ac8e-e01e2756d424",
   "metadata": {},
   "outputs": [],
   "source": [
    "from sklearn.ensemble import RandomForestClassifier\n",
    "random_forest_census_lda = RandomForestClassifier(n_estimators = 40, criterion = 'entropy', random_state = 0)\n",
    "random_forest_census_lda.fit(X_census_treinamento_lda, y_census_treinamento)"
   ]
  },
  {
   "cell_type": "code",
   "execution_count": null,
   "id": "d42ec38c-c4a6-42fe-802d-1f11d00d6400",
   "metadata": {},
   "outputs": [],
   "source": [
    "previsoes = random_forest_census_lda.predict(X_census_teste_lda)\n",
    "previsoes"
   ]
  },
  {
   "cell_type": "code",
   "execution_count": null,
   "id": "4d374961-7967-4b0a-9c53-b49c2e164a4f",
   "metadata": {},
   "outputs": [],
   "source": [
    "y_census_teste"
   ]
  },
  {
   "cell_type": "code",
   "execution_count": null,
   "id": "6b78439d-ae65-4452-bfcc-c99b529e4471",
   "metadata": {},
   "outputs": [],
   "source": [
    "from sklearn.metrics import accuracy_score\n",
    "accuracy_score(y_census_teste, previsoes)"
   ]
  },
  {
   "cell_type": "code",
   "execution_count": null,
   "id": "7cad2d18-ff1c-4816-83eb-031c99e30a62",
   "metadata": {},
   "outputs": [],
   "source": []
  },
  {
   "cell_type": "code",
   "execution_count": null,
   "id": "ff57771b-8082-49c9-87a6-3e48fbc123b9",
   "metadata": {},
   "outputs": [],
   "source": []
  },
  {
   "cell_type": "code",
   "execution_count": null,
   "id": "62b938cd-3fa1-4b06-b716-9fc7544bfffd",
   "metadata": {},
   "outputs": [],
   "source": []
  },
  {
   "cell_type": "code",
   "execution_count": null,
   "id": "3f9cdaca-7410-4a69-b9e0-4fea217b7e52",
   "metadata": {},
   "outputs": [],
   "source": []
  },
  {
   "cell_type": "code",
   "execution_count": null,
   "id": "5db5c40a-8e01-414d-ad14-776cadd88351",
   "metadata": {},
   "outputs": [],
   "source": []
  }
 ],
 "metadata": {
  "kernelspec": {
   "display_name": "Python (my_venv)",
   "language": "python",
   "name": "my_venv"
  },
  "language_info": {
   "codemirror_mode": {
    "name": "ipython",
    "version": 3
   },
   "file_extension": ".py",
   "mimetype": "text/x-python",
   "name": "python",
   "nbconvert_exporter": "python",
   "pygments_lexer": "ipython3",
   "version": "3.12.3"
  }
 },
 "nbformat": 4,
 "nbformat_minor": 5
}
