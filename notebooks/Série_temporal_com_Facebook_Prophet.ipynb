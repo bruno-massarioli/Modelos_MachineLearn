{
 "cells": [
  {
   "cell_type": "markdown",
   "metadata": {
    "id": "djg8PYbYEPLt"
   },
   "source": [
    "# Série temporal com Facebook Prophet - previsão de visualizações diárias de páginas web"
   ]
  },
  {
   "cell_type": "markdown",
   "metadata": {
    "id": "9Eze38fDESQ1"
   },
   "source": [
    "## Instalação da biblioteca e importação da base de dados\n",
    "\n",
    "- Visualizações diárias de uma página web da Wikipedia: https://en.wikipedia.org/wiki/Peyton_Manning"
   ]
  },
  {
   "cell_type": "code",
   "execution_count": null,
   "metadata": {
    "colab": {
     "base_uri": "https://localhost:8080/",
     "height": 407
    },
    "id": "bDuWyc_RELmS",
    "outputId": "617d5dfd-d087-44ad-bb7c-bfa0c9a789e0"
   },
   "outputs": [],
   "source": [
    "!pip install fbprophet"
   ]
  },
  {
   "cell_type": "code",
   "execution_count": null,
   "metadata": {
    "id": "XBu-gkTCFmW0"
   },
   "outputs": [],
   "source": [
    "from fbprophet import Prophet\n",
    "import pandas as pd"
   ]
  },
  {
   "cell_type": "code",
   "execution_count": null,
   "metadata": {
    "colab": {
     "base_uri": "https://localhost:8080/",
     "height": 447
    },
    "id": "TDEpZ4QKFpz0",
    "outputId": "d64aa478-d404-46d4-f4d5-6901c49e2880"
   },
   "outputs": [],
   "source": [
    "dataset = pd.read_csv('page_wikipedia.csv')\n",
    "dataset"
   ]
  },
  {
   "cell_type": "code",
   "execution_count": null,
   "metadata": {
    "colab": {
     "base_uri": "https://localhost:8080/",
     "height": 323
    },
    "id": "EVDR1sLqF_Gu",
    "outputId": "de1eb34a-a389-416d-ded3-0815079788be"
   },
   "outputs": [],
   "source": [
    "dataset.describe()"
   ]
  },
  {
   "cell_type": "code",
   "execution_count": null,
   "metadata": {
    "colab": {
     "base_uri": "https://localhost:8080/",
     "height": 301
    },
    "id": "DcgZNMMbGKt3",
    "outputId": "0bb3e588-c0eb-4191-de77-a2b1f6822f1f"
   },
   "outputs": [],
   "source": [
    "dataset.hist();"
   ]
  },
  {
   "cell_type": "code",
   "execution_count": null,
   "metadata": {
    "colab": {
     "base_uri": "https://localhost:8080/",
     "height": 447
    },
    "id": "VjxWaA1fGTMI",
    "outputId": "ba572393-9913-4d8b-e102-a0f3403c701e"
   },
   "outputs": [],
   "source": [
    "dataset = dataset[['date', 'views']].rename(columns = {'date': 'ds', 'views': 'y'})\n",
    "dataset"
   ]
  },
  {
   "cell_type": "code",
   "execution_count": null,
   "metadata": {
    "colab": {
     "base_uri": "https://localhost:8080/",
     "height": 447
    },
    "id": "c9HlNIUaHGe7",
    "outputId": "9edf5a94-b135-438c-9c44-fd582370014e"
   },
   "outputs": [],
   "source": [
    "dataset = dataset.sort_values(by = 'ds')\n",
    "dataset"
   ]
  },
  {
   "cell_type": "markdown",
   "metadata": {
    "id": "qvBIlYNtHNkR"
   },
   "source": [
    "## Construção do modelo e previsões"
   ]
  },
  {
   "cell_type": "code",
   "execution_count": null,
   "metadata": {
    "colab": {
     "base_uri": "https://localhost:8080/",
     "height": 90
    },
    "id": "hWemv192HP8h",
    "outputId": "38e1a11f-f7bb-43b1-abf9-fec0bb28facd"
   },
   "outputs": [],
   "source": [
    "model = Prophet()\n",
    "model.fit(dataset)"
   ]
  },
  {
   "cell_type": "code",
   "execution_count": null,
   "metadata": {
    "id": "S13XKhPdHsav"
   },
   "outputs": [],
   "source": [
    "future = model.make_future_dataframe(periods=90)\n",
    "forecast = model.predict(future)"
   ]
  },
  {
   "cell_type": "code",
   "execution_count": null,
   "metadata": {
    "colab": {
     "base_uri": "https://localhost:8080/",
     "height": 316
    },
    "id": "oLbumjjjH7uh",
    "outputId": "73733da1-d80d-4f06-a02d-d587f5bf0a03"
   },
   "outputs": [],
   "source": [
    "forecast.head()"
   ]
  },
  {
   "cell_type": "code",
   "execution_count": null,
   "metadata": {
    "colab": {
     "base_uri": "https://localhost:8080/",
     "height": 55
    },
    "id": "__F0R8KQH1uD",
    "outputId": "1a5dc048-19f9-4f8f-a1b3-5c5e146ce65a"
   },
   "outputs": [],
   "source": [
    "len(dataset), len(forecast)"
   ]
  },
  {
   "cell_type": "code",
   "execution_count": null,
   "metadata": {
    "colab": {
     "base_uri": "https://localhost:8080/",
     "height": 55
    },
    "id": "mDNTT_h9IBLe",
    "outputId": "8aa97543-c3f8-489d-e516-ecd2670f1b13"
   },
   "outputs": [],
   "source": [
    "len(forecast) - len(dataset)"
   ]
  },
  {
   "cell_type": "code",
   "execution_count": null,
   "metadata": {
    "colab": {
     "base_uri": "https://localhost:8080/",
     "height": 623
    },
    "id": "4v1082h9IHw8",
    "outputId": "e024648e-dce2-458d-b67e-698b6a917570"
   },
   "outputs": [],
   "source": [
    "forecast.tail(90)"
   ]
  },
  {
   "cell_type": "markdown",
   "metadata": {
    "id": "ZrEUA2GYIhxk"
   },
   "source": [
    "## Gráfico das previsões"
   ]
  },
  {
   "cell_type": "code",
   "execution_count": null,
   "metadata": {
    "colab": {
     "base_uri": "https://localhost:8080/",
     "height": 461
    },
    "id": "0jIWnE1gIYIH",
    "outputId": "6dfa0d2d-7019-4138-e796-e0def3ba735d"
   },
   "outputs": [],
   "source": [
    "model.plot(forecast, xlabel = 'Date', ylabel = 'Views');"
   ]
  },
  {
   "cell_type": "code",
   "execution_count": null,
   "metadata": {
    "colab": {
     "base_uri": "https://localhost:8080/",
     "height": 677
    },
    "id": "3YjyCr40IylQ",
    "outputId": "d18fdc27-ed1c-4081-dd0d-d9ba0a0a8464"
   },
   "outputs": [],
   "source": [
    "model.plot_components(forecast);"
   ]
  },
  {
   "cell_type": "code",
   "execution_count": null,
   "metadata": {
    "id": "1aLh4EhKJHed"
   },
   "outputs": [],
   "source": [
    "from fbprophet.plot import plot_plotly, plot_components_plotly"
   ]
  },
  {
   "cell_type": "code",
   "execution_count": null,
   "metadata": {
    "colab": {
     "base_uri": "https://localhost:8080/",
     "height": 637
    },
    "id": "-PKcAkCkJKSA",
    "outputId": "3e9704bc-9ce5-4700-92cd-1c8040c6ef93"
   },
   "outputs": [],
   "source": [
    "plot_plotly(model, forecast)"
   ]
  },
  {
   "cell_type": "code",
   "execution_count": null,
   "metadata": {
    "colab": {
     "base_uri": "https://localhost:8080/",
     "height": 637
    },
    "id": "hO1SkCYqJ2zG",
    "outputId": "4a9c0ebc-8873-4478-b30f-d1a0f5152a8f"
   },
   "outputs": [],
   "source": [
    "plot_components_plotly(model, forecast)"
   ]
  }
 ],
 "metadata": {
  "colab": {
   "provenance": []
  },
  "kernelspec": {
   "display_name": "Python (my_venv)",
   "language": "python",
   "name": "my_venv"
  },
  "language_info": {
   "codemirror_mode": {
    "name": "ipython",
    "version": 3
   },
   "file_extension": ".py",
   "mimetype": "text/x-python",
   "name": "python",
   "nbconvert_exporter": "python",
   "pygments_lexer": "ipython3",
   "version": "3.12.3"
  }
 },
 "nbformat": 4,
 "nbformat_minor": 4
}
