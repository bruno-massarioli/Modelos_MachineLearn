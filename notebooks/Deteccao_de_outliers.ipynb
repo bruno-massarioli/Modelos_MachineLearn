{
 "cells": [
  {
   "cell_type": "markdown",
   "id": "0b3120ff-cc3d-434f-84fa-e70f355eeb8d",
   "metadata": {},
   "source": [
    "# Detecção de outliers\n",
    "\n",
    "- valores anormais\n",
    "- valores fora do padrão (afastados da média)\n",
    "- causas: acaso, erro no preenchimento nos dados, fraudes <br>\n",
    " **tratamentos**\n",
    "- remover o registro\n",
    "- não modificar nada\n",
    "- substituir o valor "
   ]
  },
  {
   "cell_type": "markdown",
   "id": "012fa49d-cfd6-4f1f-8285-c01c1b175ffa",
   "metadata": {},
   "source": [
    "## Boxplot"
   ]
  },
  {
   "cell_type": "code",
   "execution_count": null,
   "id": "7b6d06e8-a4b6-4aef-8d94-6e085835beb8",
   "metadata": {},
   "outputs": [],
   "source": [
    "import pandas as pd\n",
    "import numpy as np\n",
    "import seaborn as sns\n",
    "import matplotlib.pyplot as plt\n",
    "import plotly.express as px # gera graficos dinamicos"
   ]
  },
  {
   "cell_type": "code",
   "execution_count": null,
   "id": "b1aec4b8-5f77-4b88-ac68-e3602ed0fb00",
   "metadata": {},
   "outputs": [],
   "source": [
    "base_credit = pd.read_csv('credit_data.csv')\n",
    "base_credit"
   ]
  },
  {
   "cell_type": "code",
   "execution_count": null,
   "id": "6880163e-6507-4941-bf5f-16f3b46ed84c",
   "metadata": {},
   "outputs": [],
   "source": [
    "base_credit.isnull().sum()"
   ]
  },
  {
   "cell_type": "code",
   "execution_count": null,
   "id": "2006cf57-695a-419b-94a4-4546e77d076a",
   "metadata": {},
   "outputs": [],
   "source": [
    "#apagando registros nulos\n",
    "base_credit.dropna(inplace=True)"
   ]
  },
  {
   "cell_type": "code",
   "execution_count": null,
   "id": "d508acbc-9de8-4e55-9371-125288bc4439",
   "metadata": {},
   "outputs": [],
   "source": [
    "base_credit.isnull().sum()"
   ]
  },
  {
   "cell_type": "code",
   "execution_count": null,
   "id": "392e79d9-7f31-4de8-9803-d116d332fe21",
   "metadata": {},
   "outputs": [],
   "source": [
    "# Outliers idade\n",
    "grafico = px.box(base_credit, y = 'age')\n",
    "grafico.show()"
   ]
  },
  {
   "cell_type": "code",
   "execution_count": null,
   "id": "8aad3d66-41d1-4a48-bfd0-c7fa40f343cb",
   "metadata": {},
   "outputs": [],
   "source": [
    "# Criando o boxplot com Seaborn\n",
    "sns.boxplot(y=base_credit['age'])\n",
    "\n",
    "# Exibindo o gráfico\n",
    "plt.show()"
   ]
  },
  {
   "cell_type": "code",
   "execution_count": null,
   "id": "13416896-7db8-489d-b8e6-32a7e2a7f017",
   "metadata": {},
   "outputs": [],
   "source": [
    "outliers_age = base_credit[base_credit['age'] < 0]\n",
    "outliers_age"
   ]
  },
  {
   "cell_type": "code",
   "execution_count": null,
   "id": "e76abd7e-9c67-44f1-827c-b3b50e1ab1bf",
   "metadata": {},
   "outputs": [],
   "source": [
    "# Outliers loan\n",
    "grafico = px.box(base_credit, y='loan')\n",
    "grafico.show()"
   ]
  },
  {
   "cell_type": "code",
   "execution_count": null,
   "id": "128cb3a6-65fd-4522-9c67-c1b53e467523",
   "metadata": {},
   "outputs": [],
   "source": [
    "outliers_loan = base_credit[base_credit['loan'] > 13300]\n",
    "outliers_loan"
   ]
  },
  {
   "cell_type": "markdown",
   "id": "3a51e058-9d51-4c3b-b32b-2fb43cf8cec7",
   "metadata": {},
   "source": [
    "## Gráfico de dispersão"
   ]
  },
  {
   "cell_type": "code",
   "execution_count": null,
   "id": "57bd6219-7b4e-433e-b0a1-8dd5171589da",
   "metadata": {},
   "outputs": [],
   "source": [
    "# Income x age\n",
    "grafico = px.scatter(x = base_credit['income'], y = base_credit['age'])\n",
    "grafico.show()"
   ]
  },
  {
   "cell_type": "code",
   "execution_count": null,
   "id": "d1e031ec-778c-4573-a773-ff09d5038197",
   "metadata": {},
   "outputs": [],
   "source": [
    "# Income x loan\n",
    "grafico = px.scatter(x = base_credit['income'], y = base_credit['loan'])\n",
    "grafico.show()"
   ]
  },
  {
   "cell_type": "code",
   "execution_count": null,
   "id": "78109139-5ee4-416e-9982-4f10cfecd6b2",
   "metadata": {},
   "outputs": [],
   "source": [
    "# Age x loan\n",
    "grafico = px.scatter(x = base_credit['age'], y = base_credit['loan'])\n",
    "grafico.show()"
   ]
  },
  {
   "cell_type": "code",
   "execution_count": null,
   "id": "660290cb-ea9d-4b87-a63b-5e174b0ad688",
   "metadata": {},
   "outputs": [],
   "source": [
    "base_census = pd.read_csv('census.csv')\n",
    "base_census"
   ]
  },
  {
   "cell_type": "code",
   "execution_count": null,
   "id": "6c109dcf-3059-4bb8-9244-b60a8ee2efe3",
   "metadata": {},
   "outputs": [],
   "source": [
    "# Age x final weight\n",
    "grafico = px.scatter(x = base_census['age'], y = base_census['final-weight'])\n",
    "grafico.show()"
   ]
  },
  {
   "cell_type": "markdown",
   "id": "dfbce8db-723b-45da-9793-c586145035ac",
   "metadata": {},
   "source": [
    "## Biblioteca PyOD\n",
    "\n",
    "- Documentação: https://pyod.readthedocs.io/en/latest/#"
   ]
  },
  {
   "cell_type": "code",
   "execution_count": null,
   "id": "de1251e5-da06-4374-82a0-17e215376be9",
   "metadata": {},
   "outputs": [],
   "source": [
    "!pip install pyod"
   ]
  },
  {
   "cell_type": "code",
   "execution_count": null,
   "id": "2a8e1fd1-462c-48da-8acc-2b26f928dc36",
   "metadata": {},
   "outputs": [],
   "source": []
  },
  {
   "cell_type": "code",
   "execution_count": null,
   "id": "b930a028-03c9-49a6-841a-c1c52576ed44",
   "metadata": {},
   "outputs": [],
   "source": [
    "from pyod.models.knn import KNN"
   ]
  },
  {
   "cell_type": "code",
   "execution_count": null,
   "id": "2fec397c-7267-45bd-816b-21d0adf0c52c",
   "metadata": {},
   "outputs": [],
   "source": [
    "base_credit.head(1)"
   ]
  },
  {
   "cell_type": "code",
   "execution_count": null,
   "id": "6e9d96f1-a7db-4af8-8365-c362601cc25d",
   "metadata": {},
   "outputs": [],
   "source": [
    "detector = KNN()\n",
    "detector.fit(base_credit.iloc[:,1:4])"
   ]
  },
  {
   "cell_type": "code",
   "execution_count": null,
   "id": "9a14404f-5e00-482c-bfa2-22e41dff28d2",
   "metadata": {},
   "outputs": [],
   "source": [
    "previsoes = detector.labels_\n",
    "previsoes"
   ]
  },
  {
   "cell_type": "code",
   "execution_count": null,
   "id": "d3007c8a-5440-4438-a7aa-b8515babedcc",
   "metadata": {},
   "outputs": [],
   "source": [
    "np.unique(previsoes, return_counts=True)"
   ]
  },
  {
   "cell_type": "code",
   "execution_count": null,
   "id": "7dd8be27-0c2f-4a94-9e34-d02b52e44f97",
   "metadata": {},
   "outputs": [],
   "source": [
    "confianca_previsoes = detector.decision_scores_\n",
    "confianca_previsoes"
   ]
  },
  {
   "cell_type": "code",
   "execution_count": null,
   "id": "1a94aa4b-c767-47a9-9173-5f370132d3aa",
   "metadata": {},
   "outputs": [],
   "source": [
    "outliers = []\n",
    "for i in range(len(previsoes)):\n",
    "  #print(i)\n",
    "  if previsoes[i] == 1:\n",
    "    outliers.append(i)"
   ]
  },
  {
   "cell_type": "code",
   "execution_count": null,
   "id": "b6a2e326-248b-40e7-9adf-84ebf161703c",
   "metadata": {},
   "outputs": [],
   "source": [
    "print(outliers)"
   ]
  },
  {
   "cell_type": "code",
   "execution_count": null,
   "id": "97f72c46-b658-44f6-8203-b6dafd39883d",
   "metadata": {},
   "outputs": [],
   "source": [
    "lista_outliers = base_credit.iloc[outliers,:]\n",
    "lista_outliers"
   ]
  },
  {
   "cell_type": "code",
   "execution_count": null,
   "id": "c1176b86-1019-4a0f-8a17-aacbdb91b238",
   "metadata": {},
   "outputs": [],
   "source": []
  }
 ],
 "metadata": {
  "kernelspec": {
   "display_name": "Python (my_venv)",
   "language": "python",
   "name": "my_venv"
  },
  "language_info": {
   "codemirror_mode": {
    "name": "ipython",
    "version": 3
   },
   "file_extension": ".py",
   "mimetype": "text/x-python",
   "name": "python",
   "nbconvert_exporter": "python",
   "pygments_lexer": "ipython3",
   "version": "3.12.3"
  }
 },
 "nbformat": 4,
 "nbformat_minor": 5
}
